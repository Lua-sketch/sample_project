{
 "cells": [
  {
   "cell_type": "markdown",
   "metadata": {},
   "source": [
    "# Computação Clássica e Programação com Python!"
   ]
  },
  {
   "cell_type": "code",
   "execution_count": 5,
   "metadata": {},
   "outputs": [
    {
     "data": {
      "text/html": [
       "<script>\n",
       "code_show=true; \n",
       "function code_toggle() {\n",
       "  if (code_show) {\n",
       "    $('div.input').each(function(id) {\n",
       "      el = $(this).find('.cm-variable:first');\n",
       "      if (id == 0 || el.text() == 'hide_me') {\n",
       "        $(this).hide();\n",
       "      }\n",
       "    });\n",
       "    $('div.output_prompt').css('opacity', 0);\n",
       "  } else {\n",
       "    $('div.input').each(function(id) {\n",
       "      $(this).show();\n",
       "    });\n",
       "    $('div.output_prompt').css('opacity', 1);\n",
       "  }\n",
       "  code_show = !code_show\n",
       "} \n",
       "$( document ).ready(code_toggle);\n",
       "</script>\n",
       "<form action=\"javascript:code_toggle()\"><input style=\"opacity:0\" type=\"submit\" value=\"Click here to toggle on/off the raw code.\"></form>"
      ],
      "text/plain": [
       "<IPython.core.display.HTML object>"
      ]
     },
     "execution_count": 5,
     "metadata": {},
     "output_type": "execute_result"
    }
   ],
   "source": [
    "from IPython.display import HTML\n",
    "\n",
    "hide_me = ''\n",
    "HTML('''<script>\n",
    "code_show=true; \n",
    "function code_toggle() {\n",
    "  if (code_show) {\n",
    "    $('div.input').each(function(id) {\n",
    "      el = $(this).find('.cm-variable:first');\n",
    "      if (id == 0 || el.text() == 'hide_me') {\n",
    "        $(this).hide();\n",
    "      }\n",
    "    });\n",
    "    $('div.output_prompt').css('opacity', 0);\n",
    "  } else {\n",
    "    $('div.input').each(function(id) {\n",
    "      $(this).show();\n",
    "    });\n",
    "    $('div.output_prompt').css('opacity', 1);\n",
    "  }\n",
    "  code_show = !code_show\n",
    "} \n",
    "$( document ).ready(code_toggle);\n",
    "</script>\n",
    "<form action=\"javascript:code_toggle()\"><input style=\"opacity:0\" type=\"submit\" value=\"Click here to toggle on/off the raw code.\"></form>''')"
   ]
  },
  {
   "cell_type": "markdown",
   "metadata": {},
   "source": [
    "Antes de aprendermos sobre computação quântica e programação quântica, temos que aprender sobre a computação clássica e a programação clássica.\n",
    "\n",
    "Assim, neste post, vamos aprender sobre algumas bases teóricas da computação clássica (bits, representação binária, e lógica booleana) e sobre programação, especificamente em Python (variáveis, condicionais, funções, etc)."
   ]
  },
  {
   "cell_type": "markdown",
   "metadata": {},
   "source": [
    "## Bits e Representação Binária"
   ]
  },
  {
   "cell_type": "markdown",
   "metadata": {},
   "source": [
    "Um bit é uma unidade de informação clássica. Seu nome vem de dígito binário e cada bit pode adotar um dentre dois valores: 0 ou 1. Todas as operações que ocorrem em um computador são baseadas em manipulações de bits."
   ]
  },
  {
   "cell_type": "markdown",
   "metadata": {},
   "source": [
    "Para nós, basta pensar em um bit como a nossa menor unidade de informação, um objeto matemático que representaremos com vetores. Fisicamente, um bit é implementado com eletricidade, sendo que ele vale 0 quando não deixa a eletricidade passar e 1 quando o faz."
   ]
  },
  {
   "cell_type": "markdown",
   "metadata": {},
   "source": [
    "Bom, dissemos que qualquer operação em um computador é resultado da manipulação de bits. Assim, a realização de uma soma ou de qualquer outra operação aritmética deve poder ser feita com bits. Mas como?"
   ]
  },
  {
   "cell_type": "markdown",
   "metadata": {},
   "source": [
    "Vamos agora relembrar como funciona nosso sistema númerico comum, de base dez. O número 1875 pode ser expresso como "
   ]
  },
  {
   "cell_type": "markdown",
   "metadata": {},
   "source": [
    "        1*1000 + 8*100 + 7*10 + 5*1 = 1*10³ + 8*10² + 7*10¹ + 5*10⁰"
   ]
  },
  {
   "cell_type": "markdown",
   "metadata": {},
   "source": [
    "Assim, se damos posições aos algarismos que compõem nossos números inteiros a partir do zero, começando da direita, vemos que cada um deles representa o coeficiente pelo qual multiplicamos 10ᵖᵒˢ, onde pos é sua posição."
   ]
  },
  {
   "cell_type": "markdown",
   "metadata": {},
   "source": [
    "Se temos números decimais, introduzimos posições negativas:"
   ]
  },
  {
   "cell_type": "markdown",
   "metadata": {},
   "source": [
    "      1875.43 = 1*10³ + 8*10² + 7*10¹ + 5*10⁰ + 4*10⁻¹ + 3*10⁻²"
   ]
  },
  {
   "cell_type": "markdown",
   "metadata": {},
   "source": [
    "Para realizar o mesmo tipo de operação que representamos com nosso sistema de base 10 usando bits, precisamos introduzir uma lógica similar sobre como ler os algarismos em uma sequência de bits. Então, criamos a base binária ou base 2, em que as posições agora correspondem aos coeficientes pelos quais multiplicamos 2ᵖᵒˢ."
   ]
  },
  {
   "cell_type": "markdown",
   "metadata": {},
   "source": [
    "Vejamos alguns exemplos:"
   ]
  },
  {
   "cell_type": "markdown",
   "metadata": {},
   "source": [
    "         100 = 1*2² + 0*2¹ + 0*2⁰ = 4\n",
    "         1001 = 1*2³ + 0*2² + 0*2¹ + 1*2⁰ = 9"
   ]
  },
  {
   "cell_type": "markdown",
   "metadata": {},
   "source": [
    "Por fim, antes de aprendermos aritmética em base binária, vejamos como podemos converter um número da base 10 para a base 2."
   ]
  },
  {
   "cell_type": "markdown",
   "metadata": {},
   "source": [
    "Para isso, vamos utilizar o exemplo do número 25. Antes, dividimos o número por 2:"
   ]
  },
  {
   "cell_type": "markdown",
   "metadata": {},
   "source": [
    "          25/2 = 12, com resto 1"
   ]
  },
  {
   "cell_type": "markdown",
   "metadata": {},
   "source": [
    "Então, escrevemos o resto dessa primeira divisão na posição do coeficiente de 2⁰:"
   ]
  },
  {
   "cell_type": "markdown",
   "metadata": {},
   "source": [
    "              1"
   ]
  },
  {
   "cell_type": "markdown",
   "metadata": {},
   "source": [
    "Agora, dividimos o resultado da divisão por 2:"
   ]
  },
  {
   "cell_type": "markdown",
   "metadata": {},
   "source": [
    "        12/2 = 6, com resto 0"
   ]
  },
  {
   "cell_type": "markdown",
   "metadata": {},
   "source": [
    "Desta vez, escrevemos o resto da divisão na posição do coeficiente de 2¹:"
   ]
  },
  {
   "cell_type": "markdown",
   "metadata": {},
   "source": [
    "           01"
   ]
  },
  {
   "cell_type": "markdown",
   "metadata": {},
   "source": [
    "Mais uma vez, dividimos o resultado por 2:"
   ]
  },
  {
   "cell_type": "markdown",
   "metadata": {},
   "source": [
    "      6/2 = 3, com resto 0"
   ]
  },
  {
   "cell_type": "markdown",
   "metadata": {},
   "source": [
    "E o resto vai na posição do coeficiente de 2²:"
   ]
  },
  {
   "cell_type": "markdown",
   "metadata": {},
   "source": [
    "          001"
   ]
  },
  {
   "cell_type": "markdown",
   "metadata": {},
   "source": [
    "O processo se repete:"
   ]
  },
  {
   "cell_type": "markdown",
   "metadata": {},
   "source": [
    "    3/2 = 1, com resto 1\n",
    "    \n",
    "    1001\n",
    "    \n",
    "    1/2 = 0 com resto 1\n",
    "    \n",
    "    11001 -> expressão final, pois chegamos no resultado zero!"
   ]
  },
  {
   "cell_type": "markdown",
   "metadata": {},
   "source": [
    "Se quiser, pode checar que a expressão está correta. De qualquer forma, este algoritmo sempre funciona, e apesar de ser possível chegar a um resultado sem ele, apenas por meio de tentativa e erro, ele garante eficiência e constância, além de ajudar quando os números são muito grandes."
   ]
  },
  {
   "cell_type": "markdown",
   "metadata": {},
   "source": [
    "Agora, vamos reaprender aritmética! Em nossa base decimal, dígitos eram \"carregados\" na adição quando eram maiores ou iguais a 10. Agora, estamos em base binária, lidando com bits, então não podemos ter dígitos maiores que 1! Os carregamos para a frente se são maiores ou iguais a 2. Vejamos alguns exemplos:"
   ]
  },
  {
   "cell_type": "markdown",
   "metadata": {},
   "source": [
    "1 + 1 = 10          \n",
    "11 + 1 = 100      \n",
    "111 + 111 = 1110     "
   ]
  },
  {
   "cell_type": "markdown",
   "metadata": {},
   "source": [
    "A subtração segue a mesma lógica, e não vamos precisar aprender sobre multiplicação ou divisão binária. Basta saber que"
   ]
  },
  {
   "cell_type": "markdown",
   "metadata": {},
   "source": [
    "0 X 0 = 0 \n",
    "\n",
    "0 X 1 = 0  \n",
    "\n",
    "1 X 0 = 0 \n",
    "\n",
    "1 X 1 = 1\n",
    "\n",
    "\n",
    "0/0 = 0 \n",
    "\n",
    "0/1 = 0 \n",
    "\n",
    "1/1 = 1"
   ]
  },
  {
   "cell_type": "markdown",
   "metadata": {},
   "source": [
    "## Lógica Booleana!"
   ]
  },
  {
   "cell_type": "markdown",
   "metadata": {},
   "source": [
    "Para terminar nossa base teórica, vamos falar sobre lógica booleana! "
   ]
  },
  {
   "cell_type": "markdown",
   "metadata": {},
   "source": [
    "A lógica booleana nada mais é que o estudo de funções booleanas, que mapeiam argumentos (em forma de bits) a dois possíveis resultados (0 ou 1). No coração dessas funções está a ideia de que tudo é verdadeiro (1) ou falso (0)."
   ]
  },
  {
   "cell_type": "markdown",
   "metadata": {},
   "source": [
    "Existem três funções/operadores booleanos principais: \"AND\", \"OR\" e \"NOT\". A operação \"AND\" só resulta no valor \"verdadeiro\" ou 1 quando ambos os argumentos são verdadeiros. Por exemplo, se digo que \"1 + 1 = 2 AND 3 + 4 = 7\", minha afirmação é verdadeira e retorna o valor 1. No entanto, se digo que \"1 + 1 = 2 AND 3 + 4 = 8\", apesar da primeira parte da afirmação ser verdadeira, a afirmação como um todo é falsa."
   ]
  },
  {
   "cell_type": "markdown",
   "metadata": {},
   "source": [
    "Já a operação \"OR\" retorna 1 quando pelo menos um dos argumentos é verdadeiro. Assim, tanto \"1 + 1 = 2 OR 3 + 4 = 7\" quanto \"1 + 1 = 2 OR 3 + 4 = 8\" são verdadeiras."
   ]
  },
  {
   "cell_type": "markdown",
   "metadata": {},
   "source": [
    "Por fim, a operação \"NOT\" apenas nega o valor do argumento que recebe. Assim, se recebe algo como \"1 + 1 = 2 e 3 + 4 = 8\", que é falso, retorna verdadeiro/1. "
   ]
  },
  {
   "cell_type": "markdown",
   "metadata": {},
   "source": [
    "Para formalizar um pouco esse tipo de operação, podemos considerar como argumentos apenas valores de falso (0) ou verdadeiro (1). Dessa forma, no lugar de falar que a operação \"AND\" retorna 1 quando ambas as partes de uma afirmação são verdadeiras, e fornecer vários exemplos, podemos simplesmente dizer que \"1 AND 1 = 1\" (verdadeiro AND verdadeiro = verdadeiro). "
   ]
  },
  {
   "cell_type": "markdown",
   "metadata": {},
   "source": [
    "O mesmo se aplica a todas as outras operações. Veja que o que construímos são funções de bits para bits! Outro nome para funções/operações booleanas é portas lógicas. Existem várias outras dessas \"portas\", que podemos resumir segundo a tabela abaixo:"
   ]
  },
  {
   "cell_type": "code",
   "execution_count": 4,
   "metadata": {
    "scrolled": false
   },
   "outputs": [
    {
     "data": {
      "image/png": "[encoded data removed]",
      "text/plain": [
       "<Figure size 432x288 with 1 Axes>"
      ]
     },
     "metadata": {
      "needs_background": "light"
     },
     "output_type": "display_data"
    }
   ],
   "source": [
    "hide_me\n",
    "\n",
    "import matplotlib.pyplot as plt\n",
    "\n",
    "fig, ax = plt.subplots()\n",
    "\n",
    "table_data = [\n",
    "    ['PORTA', 'OPERADOR'],\n",
    "    ['AND', 'A ∙ B'],\n",
    "    ['OR', 'A + B'],\n",
    "    ['NOT', '~A'],\n",
    "    ['NAND', '~ A ∙ B'],\n",
    "    ['NOR', '~ A + B'],\n",
    "    ['XOR', 'A ⊕ B']\n",
    "]\n",
    "\n",
    "table = ax.table(cellText = table_data, loc='center')\n",
    "table.set_fontsize(14)\n",
    "table.scale(1,4)\n",
    "ax.axis('off')\n",
    "\n",
    "plt.show()"
   ]
  },
  {
   "cell_type": "markdown",
   "metadata": {},
   "source": [
    "Já para representar os inputs e outputs (argumentos e resultados) de cada porta, utilizamos tabelas verdade:"
   ]
  },
  {
   "cell_type": "code",
   "execution_count": 64,
   "metadata": {
    "scrolled": false
   },
   "outputs": [
    {
     "name": "stdout",
     "output_type": "stream",
     "text": [
      "        AND\n"
     ]
    },
    {
     "data": {
      "image/png": "[encoded data removed]",
      "text/plain": [
       "<Figure size 432x288 with 1 Axes>"
      ]
     },
     "metadata": {
      "needs_background": "light"
     },
     "output_type": "display_data"
    },
    {
     "name": "stdout",
     "output_type": "stream",
     "text": [
      "        OR\n"
     ]
    },
    {
     "data": {
      "image/png": "[encoded data removed]",
      "text/plain": [
       "<Figure size 432x288 with 1 Axes>"
      ]
     },
     "metadata": {
      "needs_background": "light"
     },
     "output_type": "display_data"
    },
    {
     "name": "stdout",
     "output_type": "stream",
     "text": [
      "        NOT\n"
     ]
    },
    {
     "data": {
      "image/png": "[encoded data removed]",
      "text/plain": [
       "<Figure size 432x288 with 1 Axes>"
      ]
     },
     "metadata": {
      "needs_background": "light"
     },
     "output_type": "display_data"
    },
    {
     "name": "stdout",
     "output_type": "stream",
     "text": [
      "        NAND\n"
     ]
    },
    {
     "data": {
      "image/png": "[encoded data removed]",
      "text/plain": [
       "<Figure size 432x288 with 1 Axes>"
      ]
     },
     "metadata": {
      "needs_background": "light"
     },
     "output_type": "display_data"
    },
    {
     "name": "stdout",
     "output_type": "stream",
     "text": [
      "        NOR\n"
     ]
    },
    {
     "data": {
      "image/png": "[encoded data removed]",
      "text/plain": [
       "<Figure size 432x288 with 1 Axes>"
      ]
     },
     "metadata": {
      "needs_background": "light"
     },
     "output_type": "display_data"
    },
    {
     "name": "stdout",
     "output_type": "stream",
     "text": [
      "        XOR\n"
     ]
    },
    {
     "data": {
      "image/png": "[encoded data removed]",
      "text/plain": [
       "<Figure size 432x288 with 1 Axes>"
      ]
     },
     "metadata": {
      "needs_background": "light"
     },
     "output_type": "display_data"
    }
   ],
   "source": [
    "hide_me\n",
    "\n",
    "fig1, ax1 = plt.subplots()\n",
    "\n",
    "and_data = [\n",
    "    ['INPUT A', 'INPUT B', 'OUTPUT'],\n",
    "    [0, 0, 0],\n",
    "    [0, 1, 0],\n",
    "    [1, 0, 0],\n",
    "    [1, 1, 1]\n",
    "]\n",
    "\n",
    "and_table = ax1.table(cellText = and_data, loc='left')\n",
    "and_table.set_fontsize(14)\n",
    "and_table.scale(0.5,2)\n",
    "ax1.axis('off')\n",
    "print('        AND')\n",
    "plt.show()\n",
    "\n",
    "\n",
    "fig2, ax2 = plt.subplots()\n",
    "\n",
    "or_data = [\n",
    "    ['INPUT A', 'INPUT B', 'OUTPUT'],\n",
    "    [0, 0, 0],\n",
    "    [0, 1, 1],\n",
    "    [1, 0, 1],\n",
    "    [1, 1, 1]\n",
    "]\n",
    "\n",
    "or_table = ax2.table(cellText = or_data, loc='left')\n",
    "or_table.set_fontsize(14)\n",
    "or_table.scale(0.5,2)\n",
    "ax2.axis('off')\n",
    "print('        OR')\n",
    "plt.show()\n",
    "\n",
    "\n",
    "fig3, ax3 = plt.subplots()\n",
    "\n",
    "not_data = [\n",
    "    ['INPUT', 'OUTPUT'],\n",
    "    [0, 1],\n",
    "    [1, 0],\n",
    "]\n",
    "\n",
    "not_table = ax3.table(cellText = not_data, loc='left')\n",
    "not_table.set_fontsize(14)\n",
    "not_table.scale(0.5,2)\n",
    "ax3.axis('off')\n",
    "print('        NOT')\n",
    "plt.show()\n",
    "\n",
    "\n",
    "fig4, ax4 = plt.subplots()\n",
    "\n",
    "nand_data = [\n",
    "    ['INPUT A', 'INPUT B', 'OUTPUT'],\n",
    "    [0, 0, 1],\n",
    "    [0, 1, 1],\n",
    "    [1, 0, 1],\n",
    "    [1, 1, 0]\n",
    "]\n",
    "\n",
    "nand_table = ax4.table(cellText = nand_data, loc='left')\n",
    "nand_table.set_fontsize(14)\n",
    "nand_table.scale(0.5,2)\n",
    "ax4.axis('off')\n",
    "print('        NAND')\n",
    "plt.show()\n",
    "\n",
    "\n",
    "fig5, ax5 = plt.subplots()\n",
    "\n",
    "nor_data = [\n",
    "    ['INPUT A', 'INPUT B', 'OUTPUT'],\n",
    "    [0, 0, 1],\n",
    "    [0, 1, 0],\n",
    "    [1, 0, 0],\n",
    "    [1, 1, 0]\n",
    "]\n",
    "\n",
    "nor_table = ax5.table(cellText = nor_data, loc='left')\n",
    "nor_table.set_fontsize(14)\n",
    "nor_table.scale(0.5,2)\n",
    "ax5.axis('off')\n",
    "print('        NOR')\n",
    "plt.show()\n",
    "\n",
    "\n",
    "fig6, ax6 = plt.subplots()\n",
    "\n",
    "xor_data = [\n",
    "    ['INPUT A', 'INPUT B', 'OUTPUT'],\n",
    "    [0, 0, 0],\n",
    "    [0, 1, 1],\n",
    "    [1, 0, 1],\n",
    "    [1, 1, 0]\n",
    "]\n",
    "\n",
    "xor_table = ax6.table(cellText = xor_data, loc='left')\n",
    "xor_table.set_fontsize(14)\n",
    "xor_table.scale(0.5,2)\n",
    "ax6.axis('off')\n",
    "print('        XOR')\n",
    "plt.show()"
   ]
  },
  {
   "cell_type": "markdown",
   "metadata": {},
   "source": [
    "Podemos interpretar o que cada porta faz apenas olhando para estas tabelas! Um exemplo? Bom, veja que a última tabela, para o XOR, se parece com a tabela do OR, mas no lugar de retornar 1/verdadeiro quanto PELO MENOS um dos inputs é 1/verdadeiro, retorna 1/verdadeiro quando EXATAMENTE um dos inputs é 1/verdadeiro. Tente fazer esse exercício para as outras operações!"
   ]
  },
  {
   "cell_type": "markdown",
   "metadata": {},
   "source": [
    "## Hello, World com Python!"
   ]
  },
  {
   "cell_type": "markdown",
   "metadata": {},
   "source": [
    "Chegou a hora de aprender a programar!!! Antes de tudo, um lembrete de que não assumimos nenhuma experiência prévia com Python ou outra linguagem. Por isso, vamos começar do começo: uma aplicação de Hello, World!"
   ]
  },
  {
   "cell_type": "markdown",
   "metadata": {},
   "source": [
    "Em Python, uma função bastante útil quando queremos visualizar os resultados de algum programa é a print(). Sua sintaxe é simples: print('o que você quer escrever na tela'):"
   ]
  },
  {
   "cell_type": "code",
   "execution_count": 6,
   "metadata": {},
   "outputs": [
    {
     "name": "stdout",
     "output_type": "stream",
     "text": [
      "Olá, mundo!\n"
     ]
    }
   ],
   "source": [
    "print('Olá, mundo!')"
   ]
  },
  {
   "cell_type": "markdown",
   "metadata": {},
   "source": [
    "Viu? Acabamos de rodar nosso primeiro programa em Python!!!"
   ]
  },
  {
   "cell_type": "markdown",
   "metadata": {},
   "source": [
    "## Mais sobre Print, Comentários, e Variáveis"
   ]
  },
  {
   "cell_type": "markdown",
   "metadata": {},
   "source": [
    "Já aprendemos o básico sobre o que a função print() faz. Antes de aprender outras formas de usá-la, uma breve nota sobre comentários:"
   ]
  },
  {
   "cell_type": "markdown",
   "metadata": {},
   "source": [
    "Quando escrevemos código, muitas vezes podemos nos perder se não formos organizados. Além disso, muitas vezes trabalhamos em grupos e os outros precisam entender nosso código. Para isso servem os comentários, que em Python são linhas que começam com \"#\" e que o computador ignora ao rodar o programa."
   ]
  },
  {
   "cell_type": "code",
   "execution_count": 67,
   "metadata": {},
   "outputs": [],
   "source": [
    "#este é um comentário"
   ]
  },
  {
   "cell_type": "markdown",
   "metadata": {},
   "source": [
    "Um exemplo de comentário mais útil seria:"
   ]
  },
  {
   "cell_type": "code",
   "execution_count": 68,
   "metadata": {},
   "outputs": [
    {
     "name": "stdout",
     "output_type": "stream",
     "text": [
      "Hello, World!\n"
     ]
    }
   ],
   "source": [
    "#sintaxe: print('o que quero escrever')\n",
    "\n",
    "print('Hello, World!')"
   ]
  },
  {
   "cell_type": "markdown",
   "metadata": {},
   "source": [
    "Agora, podemos ver como usar print com variáveis como argumentos. "
   ]
  },
  {
   "cell_type": "markdown",
   "metadata": {},
   "source": [
    "Quando definimos uma variável, tudo o que estamos fazendo é pedindo ao computador que guarde a informação que lhe passamos em sua memória e nomeie este canto de sua memória com o nome que damos para a variável. Assim, podemos acessar a informação futuramente apenas utilizando esse nome."
   ]
  },
  {
   "cell_type": "markdown",
   "metadata": {},
   "source": [
    "Vamos definir uma variável e usá-la dentro de print:"
   ]
  },
  {
   "cell_type": "code",
   "execution_count": 8,
   "metadata": {},
   "outputs": [
    {
     "name": "stdout",
     "output_type": "stream",
     "text": [
      "Primeira variável\n"
     ]
    }
   ],
   "source": [
    "texto = 'Primeira variável'\n",
    "\n",
    "print(texto)"
   ]
  },
  {
   "cell_type": "markdown",
   "metadata": {},
   "source": [
    "Por que isso funcionou? Bom, para print funcionar precisava de um tipo de objeto que chamamos de string, que é apenas algo entre aspas. O valor da variável texto cumpre esse requisito."
   ]
  },
  {
   "cell_type": "markdown",
   "metadata": {},
   "source": [
    "Vamos tentar misturar ambas as formas de escrever com Python sobre as quais aprendemos até agora:"
   ]
  },
  {
   "cell_type": "code",
   "execution_count": 12,
   "metadata": {},
   "outputs": [
    {
     "name": "stdout",
     "output_type": "stream",
     "text": [
      "Eu adoro pizza\n"
     ]
    }
   ],
   "source": [
    "comida = 'pizza'\n",
    "\n",
    "print('Eu adoro '+ comida)"
   ]
  },
  {
   "cell_type": "markdown",
   "metadata": {},
   "source": [
    "Legal! Bom, já que começamos a falar de variáveis, já vale mencionar que existem mais tipos. Aqui, estamos definindo variáveis do tipo string, para que possam ser escritas na tela. Existem também os tipos integer (número inteiro), float (número decimal), list (lista), e Boolean:"
   ]
  },
  {
   "cell_type": "code",
   "execution_count": 79,
   "metadata": {},
   "outputs": [],
   "source": [
    "ano = 2021           #isso é um integer\n",
    "\n",
    "pi = 3.14            #isso é um float\n",
    "\n",
    "mercado = ['sorvete', 'pizza', 'pão', 'bolo', 'alface']      #isso é uma list\n",
    "\n",
    "feliz = True        #isso é um Boolean"
   ]
  },
  {
   "cell_type": "markdown",
   "metadata": {},
   "source": [
    "## Aritmética, Comparações e Lógica Booleana em Python"
   ]
  },
  {
   "cell_type": "markdown",
   "metadata": {},
   "source": [
    "Podemos, como vimos, definir variáveis do tipo integer ou float. Mais que isso, podemos manipular estes objetos com operações aritméticas que o computador fará para nós! "
   ]
  },
  {
   "cell_type": "markdown",
   "metadata": {},
   "source": [
    "Para somar, apenas usamos \"+\". Para subtrair, usamos \"-\", para multiplicar, usamos \"*\", e para dividir, usamos \"/\""
   ]
  },
  {
   "cell_type": "code",
   "execution_count": 14,
   "metadata": {},
   "outputs": [
    {
     "data": {
      "text/plain": [
       "8"
      ]
     },
     "execution_count": 14,
     "metadata": {},
     "output_type": "execute_result"
    }
   ],
   "source": [
    "4+4"
   ]
  },
  {
   "cell_type": "code",
   "execution_count": 15,
   "metadata": {},
   "outputs": [
    {
     "data": {
      "text/plain": [
       "-1"
      ]
     },
     "execution_count": 15,
     "metadata": {},
     "output_type": "execute_result"
    }
   ],
   "source": [
    "4-5"
   ]
  },
  {
   "cell_type": "code",
   "execution_count": 16,
   "metadata": {},
   "outputs": [
    {
     "data": {
      "text/plain": [
       "16"
      ]
     },
     "execution_count": 16,
     "metadata": {},
     "output_type": "execute_result"
    }
   ],
   "source": [
    "4*4"
   ]
  },
  {
   "cell_type": "code",
   "execution_count": 17,
   "metadata": {},
   "outputs": [
    {
     "data": {
      "text/plain": [
       "1.0"
      ]
     },
     "execution_count": 17,
     "metadata": {},
     "output_type": "execute_result"
    }
   ],
   "source": [
    "4/4"
   ]
  },
  {
   "cell_type": "markdown",
   "metadata": {},
   "source": [
    "Também podemos comparar diferentes valores. Para esse tipo de operação, se a comparação for verdadeira, Python retornará uma variável Booleana com valor True, e se for falsa, retornará valor False:"
   ]
  },
  {
   "cell_type": "code",
   "execution_count": 19,
   "metadata": {},
   "outputs": [
    {
     "data": {
      "text/plain": [
       "False"
      ]
     },
     "execution_count": 19,
     "metadata": {},
     "output_type": "execute_result"
    }
   ],
   "source": [
    "2>3      #maior que?"
   ]
  },
  {
   "cell_type": "code",
   "execution_count": 20,
   "metadata": {},
   "outputs": [
    {
     "data": {
      "text/plain": [
       "False"
      ]
     },
     "execution_count": 20,
     "metadata": {},
     "output_type": "execute_result"
    }
   ],
   "source": [
    "2>=3      #maior ou igual a?"
   ]
  },
  {
   "cell_type": "code",
   "execution_count": 82,
   "metadata": {},
   "outputs": [
    {
     "data": {
      "text/plain": [
       "False"
      ]
     },
     "execution_count": 82,
     "metadata": {},
     "output_type": "execute_result"
    }
   ],
   "source": [
    "3<3      #menor que?"
   ]
  },
  {
   "cell_type": "code",
   "execution_count": 84,
   "metadata": {},
   "outputs": [
    {
     "data": {
      "text/plain": [
       "True"
      ]
     },
     "execution_count": 84,
     "metadata": {},
     "output_type": "execute_result"
    }
   ],
   "source": [
    "2<=3     #menor ou igual a?"
   ]
  },
  {
   "cell_type": "code",
   "execution_count": 21,
   "metadata": {},
   "outputs": [
    {
     "data": {
      "text/plain": [
       "True"
      ]
     },
     "execution_count": 21,
     "metadata": {},
     "output_type": "execute_result"
    }
   ],
   "source": [
    "3==3    #igual a?"
   ]
  },
  {
   "cell_type": "code",
   "execution_count": 22,
   "metadata": {},
   "outputs": [
    {
     "data": {
      "text/plain": [
       "False"
      ]
     },
     "execution_count": 22,
     "metadata": {},
     "output_type": "execute_result"
    }
   ],
   "source": [
    "3!=3      #diferente de?"
   ]
  },
  {
   "cell_type": "markdown",
   "metadata": {},
   "source": [
    "Agora, vemos que temos como obter valores falsos ou verdadeiros com Python. Será que conseguimos implementar as operações que vimos durante nosso estudo da lógica Booleana? Sim, e basta usar o nome delas!"
   ]
  },
  {
   "cell_type": "code",
   "execution_count": 23,
   "metadata": {},
   "outputs": [
    {
     "data": {
      "text/plain": [
       "True"
      ]
     },
     "execution_count": 23,
     "metadata": {},
     "output_type": "execute_result"
    }
   ],
   "source": [
    "3==3 and 3<=3"
   ]
  },
  {
   "cell_type": "code",
   "execution_count": 25,
   "metadata": {},
   "outputs": [
    {
     "data": {
      "text/plain": [
       "False"
      ]
     },
     "execution_count": 25,
     "metadata": {},
     "output_type": "execute_result"
    }
   ],
   "source": [
    "not 3==3"
   ]
  },
  {
   "cell_type": "code",
   "execution_count": 89,
   "metadata": {},
   "outputs": [
    {
     "data": {
      "text/plain": [
       "True"
      ]
     },
     "execution_count": 89,
     "metadata": {},
     "output_type": "execute_result"
    }
   ],
   "source": [
    "4>3 or 5<4"
   ]
  },
  {
   "cell_type": "code",
   "execution_count": 27,
   "metadata": {},
   "outputs": [
    {
     "data": {
      "text/plain": [
       "False"
      ]
     },
     "execution_count": 27,
     "metadata": {},
     "output_type": "execute_result"
    }
   ],
   "source": [
    "not 3==3 and 3<=3"
   ]
  },
  {
   "cell_type": "markdown",
   "metadata": {},
   "source": [
    "## Listas"
   ]
  },
  {
   "cell_type": "markdown",
   "metadata": {},
   "source": [
    "Já vimos um breve exemplo de uma lista, que é um dos tipos de valores que podemos criar com Python. Uma coisa que ainda não mencionamos é que os itens de uma lista não precisam ser todos do mesmo tipo!"
   ]
  },
  {
   "cell_type": "code",
   "execution_count": 28,
   "metadata": {},
   "outputs": [],
   "source": [
    "aleatório = [31, 'roxo', 20.5, True]"
   ]
  },
  {
   "cell_type": "markdown",
   "metadata": {},
   "source": [
    "Supondo que eu quisesse lembrar de um desses itens (talvez não lembre qual o terceiro deles), como poderia ler apenas ele? Bom, vamos novamente usar print, e escolher o item que queremos escrever na tela a partir de seu index"
   ]
  },
  {
   "cell_type": "code",
   "execution_count": 30,
   "metadata": {},
   "outputs": [
    {
     "name": "stdout",
     "output_type": "stream",
     "text": [
      "20.5\n"
     ]
    }
   ],
   "source": [
    "print(aleatório[2])"
   ]
  },
  {
   "cell_type": "markdown",
   "metadata": {},
   "source": [
    "Hum, eu disse que queria lembrar do terceiro item, e por isso coloquei index 3, mas o computador me devolveu o quarto item. O que aconteceu?"
   ]
  },
  {
   "cell_type": "markdown",
   "metadata": {},
   "source": [
    "Bom, como muitas outras coisas em ciência computacional, o index é algo que começa do 0. Assim, index 0 é o primeiro item, index 1 é o segundo, e assim por diante."
   ]
  },
  {
   "cell_type": "markdown",
   "metadata": {},
   "source": [
    "Legal, mas e se eu quiser adicionar algo à minha lista? Se isso fosse uma lista de mercado ou uma base de dados para pesquisa, posso muito bem precisar adicionar vários itens! Neste caso, uso a função append:"
   ]
  },
  {
   "cell_type": "code",
   "execution_count": 94,
   "metadata": {},
   "outputs": [
    {
     "name": "stdout",
     "output_type": "stream",
     "text": [
      "[31, 'roxo', 20.5, True, False, 'hello']\n"
     ]
    }
   ],
   "source": [
    "aleatório.append(False)\n",
    "aleatório.append('hello')\n",
    "\n",
    "print(aleatório)"
   ]
  },
  {
   "cell_type": "markdown",
   "metadata": {},
   "source": [
    "Posso também remover itens:"
   ]
  },
  {
   "cell_type": "code",
   "execution_count": 96,
   "metadata": {},
   "outputs": [
    {
     "name": "stdout",
     "output_type": "stream",
     "text": [
      "[31, 'roxo', True, False, 'hello']\n"
     ]
    }
   ],
   "source": [
    "aleatório.remove(20.5)\n",
    "\n",
    "print(aleatório)"
   ]
  },
  {
   "cell_type": "markdown",
   "metadata": {},
   "source": [
    "## Input e Output"
   ]
  },
  {
   "cell_type": "markdown",
   "metadata": {},
   "source": [
    "Por enquanto, conseguimos escrever coisas à tela com base em valores que nós mesmos definimos. Mas e se quisermos permitir o usuário do programa a interagir com ele? Por exemplo, podemos perguntar ao usuário qual seu nome, e lhe fornecer o espaço para digitar. Para isso, usamos input. Então, podemos fazer algo interessante com essa informação, como dar bom dia ao nome que o usuário digitou:"
   ]
  },
  {
   "cell_type": "code",
   "execution_count": 31,
   "metadata": {},
   "outputs": [
    {
     "name": "stdout",
     "output_type": "stream",
     "text": [
      "Qual seu nome?Luanna\n",
      "Bom dia, Luanna\n"
     ]
    }
   ],
   "source": [
    "nome = input('Qual seu nome?')   #input('instrução ao usuário')\n",
    "\n",
    "print('Bom dia, ' + nome)"
   ]
  },
  {
   "cell_type": "markdown",
   "metadata": {},
   "source": [
    "## Condicionais"
   ]
  },
  {
   "cell_type": "markdown",
   "metadata": {},
   "source": [
    "Vamos pensar sobre o que mais podemos querer fazer com Python. Se estivéssemos criando um jogo, poderíamos querer realizar uma ação se o jogador perdesse e outra se não o fizesse... precisamos de condicionais!!!"
   ]
  },
  {
   "cell_type": "markdown",
   "metadata": {},
   "source": [
    "A palavra condicionais vem de condições, e é justamente isso! Criamos frases de \"if (...) else (...)\" para adaptar o programa segundo certas condições. Vejamos um exemplo:"
   ]
  },
  {
   "cell_type": "code",
   "execution_count": 34,
   "metadata": {},
   "outputs": [
    {
     "name": "stdout",
     "output_type": "stream",
     "text": [
      "Você está feliz :)\n"
     ]
    }
   ],
   "source": [
    "feliz = True\n",
    "\n",
    "if feliz:\n",
    "    print('Você está feliz :)')"
   ]
  },
  {
   "cell_type": "markdown",
   "metadata": {},
   "source": [
    "Basicamente, você inclui uma condição logo após \"if\" (se), e se ela for verdadeira, o computador executa o código que vem a seguir. Poderíamos acrescentar um \"else\" (se não) para que o computador faça algo diferente caso a condição seja falsa:"
   ]
  },
  {
   "cell_type": "code",
   "execution_count": 37,
   "metadata": {},
   "outputs": [
    {
     "name": "stdout",
     "output_type": "stream",
     "text": [
      "Você não está feliz :| :(\n"
     ]
    }
   ],
   "source": [
    "feliz = False\n",
    "\n",
    "if feliz:\n",
    "    print('Você está feliz :)')\n",
    "else:\n",
    "    print('Você não está feliz :| :(')"
   ]
  },
  {
   "cell_type": "markdown",
   "metadata": {},
   "source": [
    "## Loops"
   ]
  },
  {
   "cell_type": "markdown",
   "metadata": {},
   "source": [
    "Outra coisa que usamos bastante na programação são loops, que basicamente repetem determinada ação quantas vezes quisermos."
   ]
  },
  {
   "cell_type": "markdown",
   "metadata": {},
   "source": [
    "Existem dois tipos de loops em Python: \"for\" (para) e \"while\" (enquanto). Usamos o loop while quando queremos repetir uma tarefa enquanto uma condição for verdadeira. Um exemplo:"
   ]
  },
  {
   "cell_type": "code",
   "execution_count": 38,
   "metadata": {},
   "outputs": [
    {
     "name": "stdout",
     "output_type": "stream",
     "text": [
      "1\n",
      "2\n",
      "3\n",
      "4\n",
      "5\n",
      "6\n",
      "7\n",
      "8\n",
      "9\n",
      "10\n"
     ]
    }
   ],
   "source": [
    "i = 1\n",
    "\n",
    "while i<11:\n",
    "    print(i)\n",
    "    i+=1            #isso é o mesmo que i = i + 1"
   ]
  },
  {
   "cell_type": "markdown",
   "metadata": {},
   "source": [
    "Veja que, neste programa, definimos o valor inicial de i como sendo 1, e repetimos a tarefa de escrever o valor da variável na tela, aumentando-o por uma unidade até que chegasse a 10. Se não incluímos alguma maneira para o loop acabar, como fizemos aqui ao aumentar o valor de i a cada iteração do loop, nosso programa falha"
   ]
  },
  {
   "cell_type": "markdown",
   "metadata": {},
   "source": [
    "Com o while, podemos acrescentar um \"else\", assim como fazíamos para o \"if\":"
   ]
  },
  {
   "cell_type": "code",
   "execution_count": 5,
   "metadata": {},
   "outputs": [
    {
     "name": "stdout",
     "output_type": "stream",
     "text": [
      "1\n",
      "2\n",
      "3\n",
      "4\n",
      "5\n",
      "6\n",
      "7\n",
      "8\n",
      "9\n",
      "10\n",
      "i é maior que 10\n"
     ]
    }
   ],
   "source": [
    "i = 1\n",
    "\n",
    "while i<11:\n",
    "    print(i)\n",
    "    i+=1             #isso é o mesmo que i = i + 1\n",
    "else:\n",
    "    print('i é maior que 10')"
   ]
  },
  {
   "cell_type": "markdown",
   "metadata": {},
   "source": [
    "Já o loop for é usado para iterar sobre uma sequência, a qual pode ser uma lista, um dicionário, um tupple, ou até uma string (ainda não usamos dicionários ou tupples, mas não se preocupe com isso)"
   ]
  },
  {
   "cell_type": "markdown",
   "metadata": {},
   "source": [
    "A seguir vemos um exemplo com listas e outro com strings:"
   ]
  },
  {
   "cell_type": "code",
   "execution_count": 39,
   "metadata": {},
   "outputs": [
    {
     "name": "stdout",
     "output_type": "stream",
     "text": [
      "1  Contato\n",
      "2  Computação Quântica e Informação Quântica\n",
      "3  Nature of Code\n"
     ]
    }
   ],
   "source": [
    "livros_para_ler = ['Contato', 'Computação Quântica e Informação Quântica', 'Nature of Code']\n",
    "\n",
    "for livro in livros_para_ler:\n",
    "    print(str(livros_para_ler.index(livro) + 1) + \"  \" + livro) \n",
    "    #usamos str para converter o index, que é um integer, em string"
   ]
  },
  {
   "cell_type": "code",
   "execution_count": 42,
   "metadata": {},
   "outputs": [
    {
     "name": "stdout",
     "output_type": "stream",
     "text": [
      "o\n",
      "i\n",
      ",\n",
      " \n",
      "t\n",
      "u\n",
      "d\n",
      "o\n",
      " \n",
      "b\n",
      "e\n",
      "m\n",
      "?\n"
     ]
    }
   ],
   "source": [
    "for letra in 'oi, tudo bem?':\n",
    "    print(letra)"
   ]
  },
  {
   "cell_type": "markdown",
   "metadata": {},
   "source": [
    "Podemos também usar um \"else\", assim como colocar um loop dentro do outro:"
   ]
  },
  {
   "cell_type": "code",
   "execution_count": 12,
   "metadata": {},
   "outputs": [
    {
     "name": "stdout",
     "output_type": "stream",
     "text": [
      "2\n",
      "3\n",
      "4\n",
      "5\n",
      "Pronto!\n"
     ]
    }
   ],
   "source": [
    "for i in range(2, 6): #range(2, 6) é apenas todos os números inteiros de 2 a 6, incluindo 2 mas não 6\n",
    "    print(i)\n",
    "else:\n",
    "    print('Pronto!')\n",
    "    \n",
    "#range(x, y) te devolve todos os números inteiros de x a y, incluindo x e excluindo y"
   ]
  },
  {
   "cell_type": "code",
   "execution_count": 14,
   "metadata": {},
   "outputs": [
    {
     "name": "stdout",
     "output_type": "stream",
     "text": [
      "matemática aplicada\n",
      "matemática teórica\n",
      "matemática quântica\n",
      "matemática topológica\n",
      "matemática clássica\n",
      "matemática numérica\n",
      "matemática estatística\n",
      "matemática analítica\n",
      "física aplicada\n",
      "física teórica\n",
      "física quântica\n",
      "física topológica\n",
      "física clássica\n",
      "física numérica\n",
      "física estatística\n",
      "física analítica\n",
      "química aplicada\n",
      "química teórica\n",
      "química quântica\n",
      "química topológica\n",
      "química clássica\n",
      "química numérica\n",
      "química estatística\n",
      "química analítica\n",
      "engenharia aplicada\n",
      "engenharia teórica\n",
      "engenharia quântica\n",
      "engenharia topológica\n",
      "engenharia clássica\n",
      "engenharia numérica\n",
      "engenharia estatística\n",
      "engenharia analítica\n",
      "computação aplicada\n",
      "computação teórica\n",
      "computação quântica\n",
      "computação topológica\n",
      "computação clássica\n",
      "computação numérica\n",
      "computação estatística\n",
      "computação analítica\n"
     ]
    }
   ],
   "source": [
    "áreas = ['matemática', 'física', 'química', 'engenharia', 'computação']\n",
    "adjetivos = ['aplicada', 'teórica', 'quântica', 'topológica', 'clássica', 'numérica', 'estatística', 'analítica']\n",
    "\n",
    "for área in áreas:\n",
    "    for adjetivo in adjetivos:\n",
    "        print(área + \" \" + adjetivo)"
   ]
  },
  {
   "cell_type": "markdown",
   "metadata": {},
   "source": [
    "## Funções"
   ]
  },
  {
   "cell_type": "markdown",
   "metadata": {},
   "source": [
    "Por fim, às vezes queremos guardar um pedaço de código que consiga fazer mais que uma variável (mais que guardar informações). Neste caso, utilizamos funções. Como vimos, algumas funções já vem prontas para nós, pois os desenvolvedores de Python as criaram (como range() ou print()). Mas podemos definir as nossas próprias funções usando \"def\":"
   ]
  },
  {
   "cell_type": "code",
   "execution_count": 43,
   "metadata": {},
   "outputs": [
    {
     "data": {
      "text/plain": [
       "24.5"
      ]
     },
     "execution_count": 43,
     "metadata": {},
     "output_type": "execute_result"
    }
   ],
   "source": [
    "def multiplique(fator1, fator2):\n",
    "    return fator1*fator2\n",
    "\n",
    "multiplique(3.5, 7)"
   ]
  },
  {
   "cell_type": "markdown",
   "metadata": {},
   "source": [
    "Essa função em particular não é muito útil, mas dentro de funções podemos incluir variáveis, loops, condicionais, e o que mais precisarmos para implementar a funcionalidade que desejamos. A cada vez que \"chamamos\" a função, aquele código será executado"
   ]
  },
  {
   "cell_type": "markdown",
   "metadata": {},
   "source": [
    "Note que fator1 e fator2 nesta função são o que chamamos de parâmetros, e que devem ser especificados quando chamamos a função para ser executada."
   ]
  },
  {
   "cell_type": "markdown",
   "metadata": {},
   "source": [
    "Outro exemplo, para terminar:"
   ]
  },
  {
   "cell_type": "code",
   "execution_count": 44,
   "metadata": {},
   "outputs": [
    {
     "data": {
      "text/plain": [
       "110.25166666666665"
      ]
     },
     "execution_count": 44,
     "metadata": {},
     "output_type": "execute_result"
    }
   ],
   "source": [
    "def média_aritmética(números):\n",
    "    soma = 0\n",
    "    for n in números:\n",
    "        soma+=n\n",
    "    return soma/len(números)      #a função len retorna o número de itens em uma lista\n",
    "\n",
    "média_aritmética([3.4, 500, 27, 40.8, 90.3, 0.01])"
   ]
  },
  {
   "cell_type": "markdown",
   "metadata": {},
   "source": [
    "## Conclusão"
   ]
  },
  {
   "cell_type": "markdown",
   "metadata": {},
   "source": [
    "Terminamos!!!!!!! "
   ]
  },
  {
   "cell_type": "markdown",
   "metadata": {},
   "source": [
    "Se você chegou até aqui, parabéns! Acabou de completar sua primeira introdução à Python (pelo menos comigo)! "
   ]
  },
  {
   "cell_type": "markdown",
   "metadata": {},
   "source": [
    "Pode ser que os conceitos ainda sejam confusos, e se sim, recomendo que você acesse o vídeo que fiz sobre essa aula (na aba \"vídeos\") e treine com o quizz e os flashcards que forneci sobre o conteúdo."
   ]
  },
  {
   "cell_type": "markdown",
   "metadata": {},
   "source": [
    "Nos vemos na próxima, quando começaremos a aprender sobre mecânica quântica!"
   ]
  }
 ],
 "metadata": {
  "kernelspec": {
   "display_name": "Python 3",
   "language": "python",
   "name": "python3"
  }
 },
 "nbformat": 4,
 "nbformat_minor": 4
}
